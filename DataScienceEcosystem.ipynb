{
 "cells": [
  {
   "cell_type": "markdown",
   "id": "e1387beb-1437-417a-b620-359fb222dbca",
   "metadata": {},
   "source": [
    "# Data Science Tools and Ecosystem"
   ]
  },
  {
   "cell_type": "markdown",
   "id": "6f0ccf1c-685c-4ba7-b483-4a8a04ca5271",
   "metadata": {},
   "source": [
    "In this notebook, Data Science Tools and Ecosystem are summarized."
   ]
  },
  {
   "cell_type": "markdown",
   "id": "c1eabfd3-a9da-4bd9-aeb0-1a6033bd976d",
   "metadata": {},
   "source": [
    "**Objectives:**\n",
    "-  Tools available for Data Science\n",
    "-  Languages used in Data Science\n",
    "-  Libraries Avalable for Data Science"
   ]
  },
  {
   "cell_type": "markdown",
   "id": "c905ddd6-b646-4f4a-9299-c9a2e089a0fe",
   "metadata": {},
   "source": [
    "Some of the popular languages that Data Scientists use are: <br>\n",
    "1. Python <br>\n",
    "2. R <br>\n",
    "3. SQL"
   ]
  },
  {
   "cell_type": "markdown",
   "id": "416977f8-cf9c-492b-ba17-7c34767d6a14",
   "metadata": {},
   "source": [
    "Some of the commonly used libraries used by Data Scientists include: <br>\n",
    "1. Matplotlib <br>\n",
    "2. Pandas <br>\n",
    "3. Numpy"
   ]
  },
  {
   "cell_type": "markdown",
   "id": "f39dc10f-efb8-4e6e-abc4-52d51b28adc4",
   "metadata": {},
   "source": [
    "|Data Science Tools|\n",
    "|------------------|\n",
    "|Apache Spark|\n",
    "|RStudio|\n",
    "|Apache Hadoop|"
   ]
  },
  {
   "cell_type": "markdown",
   "id": "3c83c46b-526c-4f1c-89c2-5832c0ab678a",
   "metadata": {},
   "source": [
    "### Below are a few examples of evaluating arithmetic expressions in Python"
   ]
  },
  {
   "cell_type": "code",
   "execution_count": 2,
   "id": "b3b49d65-2480-4fbc-802c-34c346ed21f6",
   "metadata": {},
   "outputs": [
    {
     "data": {
      "text/plain": [
       "17"
      ]
     },
     "execution_count": 2,
     "metadata": {},
     "output_type": "execute_result"
    }
   ],
   "source": [
    "#This a simple arithmetic expression to mutiply then add integers\n",
    "(3*4)+5"
   ]
  },
  {
   "cell_type": "code",
   "execution_count": 4,
   "id": "ac0c19c4-9034-468d-b605-984b3865d4a3",
   "metadata": {},
   "outputs": [
    {
     "data": {
      "text/plain": [
       "3.3333333333333335"
      ]
     },
     "execution_count": 4,
     "metadata": {},
     "output_type": "execute_result"
    }
   ],
   "source": [
    "#This will convert 200 minutes to hours by diving by 60\n",
    "200/60"
   ]
  },
  {
   "cell_type": "markdown",
   "id": "e18c2ef6-949b-4cc3-b65e-30e249ddb5b2",
   "metadata": {},
   "source": [
    "## Author\n",
    "Callie Kobayashi"
   ]
  }
 ],
 "metadata": {
  "kernelspec": {
   "display_name": "Python 3 (ipykernel)",
   "language": "python",
   "name": "python3"
  },
  "language_info": {
   "codemirror_mode": {
    "name": "ipython",
    "version": 3
   },
   "file_extension": ".py",
   "mimetype": "text/x-python",
   "name": "python",
   "nbconvert_exporter": "python",
   "pygments_lexer": "ipython3",
   "version": "3.11.7"
  }
 },
 "nbformat": 4,
 "nbformat_minor": 5
}
